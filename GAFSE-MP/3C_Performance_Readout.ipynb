{
 "cells": [
  {
   "cell_type": "code",
   "execution_count": 4,
   "id": "ebcaeb66",
   "metadata": {},
   "outputs": [],
   "source": [
    "# coding: utf-8\n",
    "import os\n",
    "import sys\n",
    "import math\n",
    "import torch\n",
    "import numpy as np\n",
    "import pandas as pd\n",
    "from tensorboard.backend.event_processing import event_accumulator"
   ]
  },
  {
   "cell_type": "code",
   "execution_count": 1,
   "id": "5174295d",
   "metadata": {},
   "outputs": [
    {
     "name": "stdout",
     "output_type": "stream",
     "text": [
      "4\n",
      "25\n"
     ]
    }
   ],
   "source": [
    "task_name_list = ['Multi_Tasks_Samll','Multi_Tasks_Medium', 'Multi_Tasks_Big', 'Multi_Tasks_Large']#  \n",
    "task_id_list = [1,4,6,8,11,19] + [0,2,10,15,20,23] + [12,13,17,18,22,24] + [3,5,7,9,14,16,21] # \n",
    "run_name = \"_run_0\"\n",
    "task_num = 6\n",
    "file_name_list = [\"./result/stop_index/run-3C_GAFSE_\" + task_name + run_name + \"-tag-\" for task_name in task_name_list]\n",
    "print(len(file_name_list))\n",
    "print(len(task_id_list))"
   ]
  },
  {
   "cell_type": "code",
   "execution_count": 2,
   "id": "96e7d85b",
   "metadata": {
    "scrolled": true
   },
   "outputs": [],
   "source": [
    "def getFlist(path):\n",
    "    for root, dirs, files in os.walk(file_dir):\n",
    "        print('root_dir:', root) \n",
    "        print('sub_dirs:', dirs)   \n",
    "        print('files:', files)   \n",
    "    return files\n",
    "    \n",
    "def readEvent(event_path, scalarName):\n",
    "    event = event_accumulator.EventAccumulator(event_path)\n",
    "    event.Reload()\n",
    "    value = event.scalars.Items(scalarName)\n",
    "    return value\n",
    "\n",
    "def exportToexcel(scalarNameList, excelName,task_name,run_name):\n",
    "    for scalarName in scalarNameList:\n",
    "        try:\n",
    "            scalarValue = readEvent(event_path,scalarName)\n",
    "            data = pd.DataFrame(scalarValue)\n",
    "            saveFile = './result/stop_index/run-3C_GAFSE_'+task_name+run_name+'-tag-'+scalarName.replace(\"/\", \"_\")+'.csv'\n",
    "            data.to_csv(path_or_buf=saveFile,index=False)\n",
    "            print(\"Scalar saved in:\",saveFile)\n",
    "        except Exception as e:\n",
    "            print('Error:',e.__class__.__name__,e)\n",
    "            continue\n",
    "\n",
    "scalarNameList = []\n",
    "# scalarNameList = [f'lr/AFSE_lr', f'lr/max_lr', f'lr/punish_lr']\n",
    "for i in range(task_num):\n",
    "    scalarNameList.extend([f'val/T{i}_auc', f'val/T{i}_acc', f'val/T{i}_mcc', f'val/T{i}_sp', f'val/T{i}_sn', \n",
    "                           f'test/T{i}_auc', f'test/T{i}_acc', f'test/T{i}_mcc', f'test/T{i}_sp', f'test/T{i}_sn'])\n",
    "for task_name in task_name_list:\n",
    "    event_path =\"./log/3C_GAFSE_\" + task_name + run_name\n",
    "    excelName = \"./result/stop_index/3C_GAFSE_\" + task_name + run_name + \".csv\"\n",
    "    exportToexcel(scalarNameList,excelName,task_name,run_name)"
   ]
  },
  {
   "cell_type": "code",
   "execution_count": 4,
   "id": "2e6bc5fd",
   "metadata": {},
   "outputs": [],
   "source": [
    "task_name = 'Multi_Tasks_Large'\n",
    "i = 6\n",
    "scalarNameList = [f'val/T{i}_auc', f'val/T{i}_acc', f'val/T{i}_mcc', f'val/T{i}_sp', f'val/T{i}_sn', \n",
    "                           f'test/T{i}_auc', f'test/T{i}_acc', f'test/T{i}_mcc', f'test/T{i}_sp', f'test/T{i}_sn']\n",
    "event_path =\"./log/3C_GAFSE_\" + task_name + run_name\n",
    "excelName = \"./result/stop_index/3C_GAFSE_\" + task_name + run_name + \".csv\"\n",
    "exportToexcel(scalarNameList,excelName,task_name,run_name)"
   ]
  },
  {
   "cell_type": "code",
   "execution_count": 9,
   "id": "fab81cbe",
   "metadata": {
    "scrolled": true
   },
   "outputs": [
    {
     "name": "stdout",
     "output_type": "stream",
     "text": [
      "Average AUC: 0.880 ACC: 0.855 MCC: 0.553 Sp: 0.844 Sn: 0.762\n",
      "Performance of GAFSE-MP successfully saved!\n"
     ]
    }
   ],
   "source": [
    "task_num = 6\n",
    "all_task_num = len(task_id_list)\n",
    "stop_epoch_list = [0 for i in range(all_task_num)]\n",
    "stop_epoch_best = [0 for i in range(all_task_num)]\n",
    "max_epoch_list = [0 for i in range(all_task_num)]\n",
    "total_index_list = [0 for i in range(all_task_num)]\n",
    "best_test_index = 0\n",
    "best_epoch_list = [0 for i in range(all_task_num)]\n",
    "test_auc_list = [0 for i in range(all_task_num)]\n",
    "test_acc_list = [0 for i in range(all_task_num)]\n",
    "test_mcc_list = [0 for i in range(all_task_num)]\n",
    "test_sp_list = [0 for i in range(all_task_num)]\n",
    "test_sn_list = [0 for i in range(all_task_num)]\n",
    "test_auc_best = [0 for i in range(all_task_num)]\n",
    "test_acc_best = [0 for i in range(all_task_num)]\n",
    "test_mcc_best = [0 for i in range(all_task_num)]\n",
    "test_sp_best = [0 for i in range(all_task_num)]\n",
    "test_sn_best = [0 for i in range(all_task_num)]\n",
    "for i, file_name in enumerate(file_name_list):\n",
    "    task_num_range = task_num\n",
    "    if i == len(file_name_list)-1:\n",
    "        task_num_range = task_num + 1\n",
    "    for k in range(task_num_range):\n",
    "        val_auc, val_acc, val_mcc, val_sp, val_sn = [0,0,0,0,0]\n",
    "        val_auc_df = pd.read_csv(file_name+f\"val_T{k}_auc.csv\", header=0, names = [\"Step\",\"Value\"],usecols=[1,2])\n",
    "        step_list = np.array(val_auc_df.Step)\n",
    "        epoch = len(step_list)\n",
    "        val_auc = np.array(val_auc_df.Value[:epoch])\n",
    "        val_acc_df = pd.read_csv(file_name+f\"val_T{k}_acc.csv\", header=0, names = [\"Value\"],usecols=[2])\n",
    "        val_acc = np.array(val_acc_df.Value[:epoch])\n",
    "        val_mcc_df = pd.read_csv(file_name+f\"val_T{k}_mcc.csv\", header=0, names = [\"Value\"],usecols=[2])\n",
    "        val_mcc = np.array(val_mcc_df.Value[:epoch])\n",
    "        val_sp_df = pd.read_csv(file_name+f\"val_T{k}_sp.csv\", header=0, names = [\"Value\"],usecols=[2])\n",
    "        val_sp = np.array(val_sp_df.Value[:epoch])\n",
    "        val_sn_df = pd.read_csv(file_name+f\"val_T{k}_sn.csv\", header=0, names = [\"Value\"],usecols=[2])\n",
    "        val_sn = np.array(val_sn_df.Value[:epoch])\n",
    "        test_auc_df = pd.read_csv(file_name+f\"test_T{k}_auc.csv\", header=0, names = [\"Value\"],usecols=[2])\n",
    "        test_auc_task = np.array(test_auc_df.Value[:epoch])\n",
    "        test_acc_df = pd.read_csv(file_name+f\"test_T{k}_acc.csv\", header=0, names = [\"Value\"],usecols=[2])\n",
    "        test_acc_task = np.array(test_acc_df.Value[:epoch])\n",
    "        test_mcc_df = pd.read_csv(file_name+f\"test_T{k}_mcc.csv\", header=0, names = [\"Value\"],usecols=[2])\n",
    "        test_mcc_task = np.array(test_mcc_df.Value[:epoch])\n",
    "        test_sp_df = pd.read_csv(file_name+f\"test_T{k}_sp.csv\", header=0, names = [\"Value\"],usecols=[2])\n",
    "        test_sp_task = np.array(test_sp_df.Value[:epoch])\n",
    "        test_sn_df = pd.read_csv(file_name+f\"test_T{k}_sn.csv\", header=0, names = [\"Value\"],usecols=[2])\n",
    "        test_sn_task = np.array(test_sn_df.Value[:epoch])\n",
    "\n",
    "        counter = 0\n",
    "        patience = 13\n",
    "#                         print(val_auc)\n",
    "        stop_index = [(val_auc[i] + val_acc[i] + val_sp[i] + val_sn[i]) for i in range(epoch)] #  + b*val_acc[i] + c*val_mcc[i] + d*val_sp[i] + e*val_sn[i]\n",
    "#                             print(stop_index)\n",
    "        val_best_index = 0\n",
    "        for j in range(epoch-1):\n",
    "            if math.isnan(stop_index[j+1]):\n",
    "                stop_index[j+1] = 0\n",
    "            if stop_index[j+1] >= val_best_index:\n",
    "                val_best_index = stop_index[j+1]\n",
    "                counter = 0\n",
    "                val_best_epoch = j + 1\n",
    "                stop_epoch_list[i*task_num+k] = val_best_epoch\n",
    "                max_epoch_list[i*task_num+k] = epoch\n",
    "            else:\n",
    "                counter += 1\n",
    "            if counter >= patience:\n",
    "                break\n",
    "\n",
    "        total_index_list[i*task_num+k] = test_auc_task[val_best_epoch] + test_acc_task[val_best_epoch] + test_mcc_task[val_best_epoch] + test_sp_task[val_best_epoch] + test_sn_task[val_best_epoch]\n",
    "        test_auc_list[i*task_num+k] = test_auc_task[val_best_epoch]\n",
    "        test_acc_list[i*task_num+k] = test_acc_task[val_best_epoch]\n",
    "        test_mcc_list[i*task_num+k] = test_mcc_task[val_best_epoch]\n",
    "        test_sp_list[i*task_num+k] = test_sp_task[val_best_epoch]\n",
    "        test_sn_list[i*task_num+k] = test_sn_task[val_best_epoch]\n",
    "\n",
    "test_auc_average = np.array(test_auc_list).mean()\n",
    "test_acc_average = np.array(test_acc_list).mean()\n",
    "test_mcc_average = np.array(test_mcc_list).mean()\n",
    "test_sp_average = np.array(test_sp_list).mean()\n",
    "test_sn_average = np.array(test_sn_list).mean()\n",
    "print(\"Average AUC: %.3f\"%test_auc_average, \"ACC: %.3f\"%test_acc_average, \"MCC: %.3f\"%test_mcc_average, \n",
    "                          \"Sp: %.3f\"%test_sp_average, \"Sn: %.3f\"%test_sn_average)\n",
    "\n",
    "Performace_df = pd.DataFrame([])     \n",
    "Performace_df[\"Task ID\"] = np.array(task_id_list)\n",
    "Performace_df[\"Stop Epoch\"] = np.array(stop_epoch_list)+1\n",
    "Performace_df[\"Total Epoch\"] = np.array(max_epoch_list)\n",
    "Performace_df[\"auc\"] = np.array(test_auc_list)\n",
    "Performace_df[\"acc\"] = np.array(test_acc_list)\n",
    "Performace_df[\"mcc\"] = np.array(test_mcc_list)\n",
    "Performace_df[\"sp\"] = np.array(test_sp_list)\n",
    "Performace_df[\"sn\"] = np.array(test_sn_list)\n",
    "Performace_df.to_csv(path_or_buf='./result/GAFSE-MP.csv')\n",
    "print(\"Performance of GAFSE-MP successfully saved!\")"
   ]
  },
  {
   "cell_type": "code",
   "execution_count": null,
   "id": "dc6e6d69",
   "metadata": {},
   "outputs": [],
   "source": []
  }
 ],
 "metadata": {
  "kernelspec": {
   "display_name": "Python 3",
   "language": "python",
   "name": "python3"
  },
  "language_info": {
   "codemirror_mode": {
    "name": "ipython",
    "version": 3
   },
   "file_extension": ".py",
   "mimetype": "text/x-python",
   "name": "python",
   "nbconvert_exporter": "python",
   "pygments_lexer": "ipython3",
   "version": "3.6.13"
  }
 },
 "nbformat": 4,
 "nbformat_minor": 5
}
